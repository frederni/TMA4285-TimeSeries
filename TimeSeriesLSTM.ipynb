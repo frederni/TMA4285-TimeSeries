{
 "cells": [
  {
   "cell_type": "code",
   "execution_count": null,
   "metadata": {},
   "outputs": [],
   "source": [
    "# NB! Heavily inspired by: https://www.analyticsvidhya.com/blog/2021/05/bitcoin-price-prediction-using-recurrent-neural-networks-and-lstm/"
   ]
  },
  {
   "cell_type": "markdown",
   "metadata": {},
   "source": [
    "Necessary imports:"
   ]
  },
  {
   "cell_type": "code",
   "execution_count": 285,
   "metadata": {},
   "outputs": [],
   "source": [
    "import numpy as np\r\n",
    "import matplotlib.pyplot as plt\r\n",
    "import pandas as pd\r\n",
    "from sklearn.preprocessing import MinMaxScaler"
   ]
  },
  {
   "cell_type": "markdown",
   "metadata": {},
   "source": [
    "# Preprocessing\r\n",
    "We start by reading the downloaded time series with Pandas. The data has invalid price values, indicated by \".\", so we have to remove these and impose the prices to be numeric again."
   ]
  },
  {
   "cell_type": "code",
   "execution_count": 286,
   "metadata": {},
   "outputs": [
    {
     "data": {
      "text/html": [
       "<div>\n",
       "<style scoped>\n",
       "    .dataframe tbody tr th:only-of-type {\n",
       "        vertical-align: middle;\n",
       "    }\n",
       "\n",
       "    .dataframe tbody tr th {\n",
       "        vertical-align: top;\n",
       "    }\n",
       "\n",
       "    .dataframe thead th {\n",
       "        text-align: right;\n",
       "    }\n",
       "</style>\n",
       "<table border=\"1\" class=\"dataframe\">\n",
       "  <thead>\n",
       "    <tr style=\"text-align: right;\">\n",
       "      <th></th>\n",
       "      <th>DATE</th>\n",
       "      <th>CBLTCUSD</th>\n",
       "    </tr>\n",
       "  </thead>\n",
       "  <tbody>\n",
       "    <tr>\n",
       "      <th>1822</th>\n",
       "      <td>2021-09-23</td>\n",
       "      <td>164.05</td>\n",
       "    </tr>\n",
       "    <tr>\n",
       "      <th>1823</th>\n",
       "      <td>2021-09-24</td>\n",
       "      <td>152.30</td>\n",
       "    </tr>\n",
       "    <tr>\n",
       "      <th>1824</th>\n",
       "      <td>2021-09-25</td>\n",
       "      <td>151.04</td>\n",
       "    </tr>\n",
       "    <tr>\n",
       "      <th>1825</th>\n",
       "      <td>2021-09-26</td>\n",
       "      <td>150.55</td>\n",
       "    </tr>\n",
       "    <tr>\n",
       "      <th>1826</th>\n",
       "      <td>2021-09-27</td>\n",
       "      <td>145.34</td>\n",
       "    </tr>\n",
       "  </tbody>\n",
       "</table>\n",
       "</div>"
      ],
      "text/plain": [
       "            DATE  CBLTCUSD\n",
       "1822  2021-09-23    164.05\n",
       "1823  2021-09-24    152.30\n",
       "1824  2021-09-25    151.04\n",
       "1825  2021-09-26    150.55\n",
       "1826  2021-09-27    145.34"
      ]
     },
     "execution_count": 286,
     "metadata": {},
     "output_type": "execute_result"
    }
   ],
   "source": [
    "df = pd.read_csv('../Tidsrekker/CBLTCUSD.csv', date_parser = True)\r\n",
    "# Sort out invalid price\r\n",
    "df['CBLTCUSD'] = df['CBLTCUSD'][~(df['CBLTCUSD'] == '.' )]\r\n",
    "df['CBLTCUSD'] = pd.to_numeric(df['CBLTCUSD'])\r\n",
    "\r\n",
    "df.tail()"
   ]
  },
  {
   "cell_type": "markdown",
   "metadata": {},
   "source": [
    "Here, we split the data in a training and testing DataFrame. We also drop the actual dates from the training data."
   ]
  },
  {
   "cell_type": "code",
   "execution_count": 339,
   "metadata": {},
   "outputs": [
    {
     "data": {
      "text/html": [
       "<div>\n",
       "<style scoped>\n",
       "    .dataframe tbody tr th:only-of-type {\n",
       "        vertical-align: middle;\n",
       "    }\n",
       "\n",
       "    .dataframe tbody tr th {\n",
       "        vertical-align: top;\n",
       "    }\n",
       "\n",
       "    .dataframe thead th {\n",
       "        text-align: right;\n",
       "    }\n",
       "</style>\n",
       "<table border=\"1\" class=\"dataframe\">\n",
       "  <thead>\n",
       "    <tr style=\"text-align: right;\">\n",
       "      <th></th>\n",
       "      <th>DATE</th>\n",
       "      <th>CBLTCUSD</th>\n",
       "    </tr>\n",
       "  </thead>\n",
       "  <tbody>\n",
       "    <tr>\n",
       "      <th>1822</th>\n",
       "      <td>2021-09-23</td>\n",
       "      <td>164.05</td>\n",
       "    </tr>\n",
       "    <tr>\n",
       "      <th>1823</th>\n",
       "      <td>2021-09-24</td>\n",
       "      <td>152.30</td>\n",
       "    </tr>\n",
       "    <tr>\n",
       "      <th>1824</th>\n",
       "      <td>2021-09-25</td>\n",
       "      <td>151.04</td>\n",
       "    </tr>\n",
       "    <tr>\n",
       "      <th>1825</th>\n",
       "      <td>2021-09-26</td>\n",
       "      <td>150.55</td>\n",
       "    </tr>\n",
       "    <tr>\n",
       "      <th>1826</th>\n",
       "      <td>2021-09-27</td>\n",
       "      <td>145.34</td>\n",
       "    </tr>\n",
       "  </tbody>\n",
       "</table>\n",
       "</div>"
      ],
      "text/plain": [
       "            DATE  CBLTCUSD\n",
       "1822  2021-09-23    164.05\n",
       "1823  2021-09-24    152.30\n",
       "1824  2021-09-25    151.04\n",
       "1825  2021-09-26    150.55\n",
       "1826  2021-09-27    145.34"
      ]
     },
     "execution_count": 339,
     "metadata": {},
     "output_type": "execute_result"
    }
   ],
   "source": [
    "n = len(df)\r\n",
    "train_df = df[0:int(n*0.9)] # df[0:int(n*0.7)]\r\n",
    "test_df = df[int(n*0.9):] # df[int(n*0.9):]\r\n",
    "\r\n",
    "df_train = train_df.drop('DATE', axis=1)\r\n",
    "test_df.tail()"
   ]
  },
  {
   "cell_type": "markdown",
   "metadata": {},
   "source": [
    "The data is normalized with Keras' MinMaxScaler so it's ready to be passed into the network."
   ]
  },
  {
   "cell_type": "code",
   "execution_count": 288,
   "metadata": {},
   "outputs": [
    {
     "data": {
      "text/plain": [
       "array([[0.00098342],\n",
       "       [0.00092723],\n",
       "       [0.00101152],\n",
       "       ...,\n",
       "       [0.50778309],\n",
       "       [0.50823265],\n",
       "       [0.50834504]])"
      ]
     },
     "execution_count": 288,
     "metadata": {},
     "output_type": "execute_result"
    }
   ],
   "source": [
    "scaler = MinMaxScaler()\r\n",
    "df_train = scaler.fit_transform(df_train)\r\n",
    "df_train"
   ]
  },
  {
   "cell_type": "markdown",
   "metadata": {},
   "source": [
    "Pass inputs parameters properly to be inserted to model"
   ]
  },
  {
   "cell_type": "code",
   "execution_count": 289,
   "metadata": {},
   "outputs": [
    {
     "data": {
      "text/plain": [
       "(1584, 60, 1)"
      ]
     },
     "execution_count": 289,
     "metadata": {},
     "output_type": "execute_result"
    }
   ],
   "source": [
    "X_train = [] \r\n",
    "Y_train = []\r\n",
    "for i in range(60, df_train.shape[0]):\r\n",
    "     X_train.append(df_train[i-60:i])\r\n",
    "     Y_train.append(df_train[i,0])\r\n",
    "X_train, Y_train = np.array(X_train), np.array(Y_train)\r\n",
    "\r\n",
    "X_train.shape"
   ]
  },
  {
   "cell_type": "markdown",
   "metadata": {},
   "source": [
    "# Building the model\r\n",
    "Here we state the LSTM model. It has 4 layers with one droput and one Dense layer"
   ]
  },
  {
   "cell_type": "code",
   "execution_count": 319,
   "metadata": {},
   "outputs": [
    {
     "name": "stdout",
     "output_type": "stream",
     "text": [
      "Model: \"sequential_25\"\n",
      "_________________________________________________________________\n",
      "Layer (type)                 Output Shape              Param #   \n",
      "=================================================================\n",
      "lstm_98 (LSTM)               (None, 60, 50)            10400     \n",
      "_________________________________________________________________\n",
      "dropout_96 (Dropout)         (None, 60, 50)            0         \n",
      "_________________________________________________________________\n",
      "lstm_99 (LSTM)               (None, 60, 60)            26640     \n",
      "_________________________________________________________________\n",
      "lstm_100 (LSTM)              (None, 60, 80)            45120     \n",
      "_________________________________________________________________\n",
      "lstm_101 (LSTM)              (None, 120)               96480     \n",
      "_________________________________________________________________\n",
      "dense_25 (Dense)             (None, 1)                 121       \n",
      "=================================================================\n",
      "Total params: 178,761\n",
      "Trainable params: 178,761\n",
      "Non-trainable params: 0\n",
      "_________________________________________________________________\n"
     ]
    }
   ],
   "source": [
    "from tensorflow.keras import Sequential\r\n",
    "from tensorflow.keras.layers import Dense, LSTM, Dropout\r\n",
    "# Initialize RNN\r\n",
    "model = Sequential() \r\n",
    "model.add(LSTM(units = 50, activation = 'relu', return_sequences = True, input_shape = (X_train.shape[1], 1)))\r\n",
    "model.add(Dropout(0.2))\r\n",
    "model.add(LSTM(units = 60, activation = 'relu', return_sequences = True))\r\n",
    "# model.add(Dropout(0.3))\r\n",
    "model.add(LSTM(units = 80, activation = 'relu', return_sequences = True))\r\n",
    "# model.add(Dropout(0.4))\r\n",
    "model.add(LSTM(units = 120, activation = 'relu'))\r\n",
    "# model.add(Dropout(0.5))\r\n",
    "model.add(Dense(units =1))\r\n",
    "model.summary()\r\n"
   ]
  },
  {
   "cell_type": "markdown",
   "metadata": {},
   "source": [
    "# Fitting the model"
   ]
  },
  {
   "cell_type": "code",
   "execution_count": 329,
   "metadata": {},
   "outputs": [
    {
     "name": "stdout",
     "output_type": "stream",
     "text": [
      "Epoch 1/20\n",
      "10/10 [==============================] - 8s 418ms/step - loss: 0.0030 - val_loss: nan\n",
      "Epoch 2/20\n",
      "10/10 [==============================] - 3s 350ms/step - loss: 0.0024 - val_loss: nan\n",
      "Epoch 3/20\n",
      "10/10 [==============================] - 4s 357ms/step - loss: 0.0023 - val_loss: nan\n",
      "Epoch 4/20\n",
      "10/10 [==============================] - 4s 393ms/step - loss: 0.0021 - val_loss: nan\n",
      "Epoch 5/20\n",
      "10/10 [==============================] - 4s 419ms/step - loss: 0.0018 - val_loss: nan\n",
      "Epoch 6/20\n",
      "10/10 [==============================] - 4s 381ms/step - loss: 0.0018 - val_loss: nan\n",
      "Epoch 7/20\n",
      "10/10 [==============================] - 4s 390ms/step - loss: 0.0018 - val_loss: nan\n",
      "Epoch 8/20\n",
      "10/10 [==============================] - 4s 403ms/step - loss: 0.0016 - val_loss: nan\n",
      "Epoch 9/20\n",
      "10/10 [==============================] - 4s 381ms/step - loss: 0.0017 - val_loss: nan\n",
      "Epoch 10/20\n",
      "10/10 [==============================] - 4s 374ms/step - loss: 0.0017 - val_loss: nan\n",
      "Epoch 11/20\n",
      "10/10 [==============================] - 4s 387ms/step - loss: 0.0016 - val_loss: nan\n",
      "Epoch 12/20\n",
      "10/10 [==============================] - 4s 368ms/step - loss: 0.0015 - val_loss: nan\n",
      "Epoch 13/20\n",
      "10/10 [==============================] - 4s 385ms/step - loss: 0.0013 - val_loss: nan\n",
      "Epoch 14/20\n",
      "10/10 [==============================] - 4s 384ms/step - loss: 0.0014 - val_loss: nan\n",
      "Epoch 15/20\n",
      "10/10 [==============================] - 4s 404ms/step - loss: 0.0013 - val_loss: nan\n",
      "Epoch 16/20\n",
      "10/10 [==============================] - 4s 396ms/step - loss: 0.0014 - val_loss: nan\n",
      "Epoch 17/20\n",
      "10/10 [==============================] - 4s 402ms/step - loss: 0.0014 - val_loss: nan\n",
      "Epoch 18/20\n",
      "10/10 [==============================] - 4s 423ms/step - loss: 0.0014 - val_loss: nan\n",
      "Epoch 19/20\n",
      "10/10 [==============================] - 4s 408ms/step - loss: 0.0014 - val_loss: nan\n",
      "Epoch 20/20\n",
      "10/10 [==============================] - 4s 395ms/step - loss: 0.0013 - val_loss: nan\n"
     ]
    }
   ],
   "source": [
    "model.compile(optimizer = 'adam', loss = 'mean_squared_error')\r\n",
    "NUM_EPOCH = 20\r\n",
    "history= model.fit(X_train, Y_train, epochs = NUM_EPOCH, batch_size = 128, validation_split=0.20)"
   ]
  },
  {
   "cell_type": "markdown",
   "metadata": {},
   "source": [
    "We find the loss for each epoch:"
   ]
  },
  {
   "cell_type": "code",
   "execution_count": 330,
   "metadata": {},
   "outputs": [
    {
     "data": {
      "image/png": "[encoded data removed]",
      "text/plain": [
       "<Figure size 432x288 with 1 Axes>"
      ]
     },
     "metadata": {
      "needs_background": "light"
     },
     "output_type": "display_data"
    }
   ],
   "source": [
    "loss = history.history['loss']\r\n",
    "epochs = range(len(loss))\r\n",
    "plt.figure()\r\n",
    "plt.plot(epochs, loss, 'b', label='Training loss')\r\n",
    "# plt.plot(epochs, val_loss, 'r', label='Validation loss')\r\n",
    "plt.title(\"Training loss, \" + str(NUM_EPOCH)+ \" epcohs\")\r\n",
    "plt.legend()\r\n",
    "plt.savefig(\"Train_loss_\" + str(NUM_EPOCH) + \"_epochs.pdf\")\r\n",
    "plt.show()"
   ]
  },
  {
   "cell_type": "markdown",
   "metadata": {},
   "source": [
    "# Testing the fit of the model"
   ]
  },
  {
   "cell_type": "code",
   "execution_count": 331,
   "metadata": {},
   "outputs": [
    {
     "data": {
      "text/html": [
       "<div>\n",
       "<style scoped>\n",
       "    .dataframe tbody tr th:only-of-type {\n",
       "        vertical-align: middle;\n",
       "    }\n",
       "\n",
       "    .dataframe tbody tr th {\n",
       "        vertical-align: top;\n",
       "    }\n",
       "\n",
       "    .dataframe thead th {\n",
       "        text-align: right;\n",
       "    }\n",
       "</style>\n",
       "<table border=\"1\" class=\"dataframe\">\n",
       "  <thead>\n",
       "    <tr style=\"text-align: right;\">\n",
       "      <th></th>\n",
       "      <th>CBLTCUSD</th>\n",
       "    </tr>\n",
       "  </thead>\n",
       "  <tbody>\n",
       "    <tr>\n",
       "      <th>0</th>\n",
       "      <td>133.74</td>\n",
       "    </tr>\n",
       "    <tr>\n",
       "      <th>1</th>\n",
       "      <td>135.28</td>\n",
       "    </tr>\n",
       "    <tr>\n",
       "      <th>2</th>\n",
       "      <td>133.18</td>\n",
       "    </tr>\n",
       "    <tr>\n",
       "      <th>3</th>\n",
       "      <td>129.39</td>\n",
       "    </tr>\n",
       "    <tr>\n",
       "      <th>4</th>\n",
       "      <td>132.05</td>\n",
       "    </tr>\n",
       "  </tbody>\n",
       "</table>\n",
       "</div>"
      ],
      "text/plain": [
       "   CBLTCUSD\n",
       "0    133.74\n",
       "1    135.28\n",
       "2    133.18\n",
       "3    129.39\n",
       "4    132.05"
      ]
     },
     "execution_count": 331,
     "metadata": {},
     "output_type": "execute_result"
    }
   ],
   "source": [
    "part_60_days = train_df.tail(60)\r\n",
    "df2= part_60_days.append(test_df, ignore_index = True)\r\n",
    "df2 = df2.drop(['DATE'], axis = 1)\r\n",
    "df2.head()"
   ]
  },
  {
   "cell_type": "code",
   "execution_count": 332,
   "metadata": {},
   "outputs": [],
   "source": [
    "inputs = scaler.transform(df2)\r\n",
    "# inputs"
   ]
  },
  {
   "cell_type": "code",
   "execution_count": 333,
   "metadata": {},
   "outputs": [
    {
     "data": {
      "text/plain": [
       "((183, 60, 1), (183,))"
      ]
     },
     "execution_count": 333,
     "metadata": {},
     "output_type": "execute_result"
    }
   ],
   "source": [
    "X_test = []\r\n",
    "Y_test = []\r\n",
    "for i in range (60, inputs.shape[0]):\r\n",
    "    X_test.append(inputs[i-60:i])\r\n",
    "    Y_test.append(inputs[i, 0])\r\n",
    "X_test, Y_test = np.array(X_test), np.array(Y_test)\r\n",
    "X_test.shape, Y_test.shape"
   ]
  },
  {
   "cell_type": "code",
   "execution_count": 334,
   "metadata": {},
   "outputs": [],
   "source": [
    "Y_pred = model.predict(X_test)\r\n",
    "# Y_pred, Y_test"
   ]
  },
  {
   "cell_type": "code",
   "execution_count": 335,
   "metadata": {},
   "outputs": [
    {
     "data": {
      "text/plain": [
       "array([0.00280978])"
      ]
     },
     "execution_count": 335,
     "metadata": {},
     "output_type": "execute_result"
    }
   ],
   "source": [
    "scaler.scale_"
   ]
  },
  {
   "cell_type": "code",
   "execution_count": 336,
   "metadata": {},
   "outputs": [],
   "source": [
    "scale = 1/scaler.scale_\r\n",
    "Y_test = Y_test*scale\r\n",
    "Y_pred = Y_pred*scale"
   ]
  },
  {
   "cell_type": "code",
   "execution_count": 337,
   "metadata": {},
   "outputs": [
    {
     "data": {
      "image/png": "[encoded data removed]",
      "text/plain": [
       "<Figure size 1008x360 with 1 Axes>"
      ]
     },
     "metadata": {
      "needs_background": "light"
     },
     "output_type": "display_data"
    }
   ],
   "source": [
    "plt.figure(figsize=(14,5))\r\n",
    "plt.plot(Y_test, color = 'red', label = 'Real Litecoin Price')\r\n",
    "plt.plot(Y_pred, color = 'green', label = 'Predicted Litecoin Price')\r\n",
    "plt.title('Litecoin Price Prediction using RNN-LSTM with ' + str(NUM_EPOCH) + ' epochs')\r\n",
    "plt.xlabel('Time')\r\n",
    "plt.ylabel('Price')\r\n",
    "plt.legend()\r\n",
    "plt.savefig(\"LSTM-pred-\" + str(NUM_EPOCH) + \"-epochs.pdf\")\r\n",
    "plt.show()"
   ]
  }
 ],
 "metadata": {
  "interpreter": {
   "hash": "2c07d2775274eeb3eb6664d523402beedd34f533689ca26ad52becf64c9fcb25"
  },
  "kernelspec": {
   "display_name": "Python 3.9.1 64-bit ('TimeSeries': venv)",
   "name": "python3"
  },
  "language_info": {
   "codemirror_mode": {
    "name": "ipython",
    "version": 3
   },
   "file_extension": ".py",
   "mimetype": "text/x-python",
   "name": "python",
   "nbconvert_exporter": "python",
   "pygments_lexer": "ipython3",
   "version": "3.9.1"
  },
  "orig_nbformat": 4
 },
 "nbformat": 4,
 "nbformat_minor": 2
}