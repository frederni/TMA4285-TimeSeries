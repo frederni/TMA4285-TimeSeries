{
 "cells": [
  {
   "cell_type": "code",
   "execution_count": null,
   "metadata": {},
   "outputs": [],
   "source": [
    "# NB! Heavily inspired by: https://www.analyticsvidhya.com/blog/2021/05/bitcoin-price-prediction-using-recurrent-neural-networks-and-lstm/"
   ]
  },
  {
   "cell_type": "markdown",
   "metadata": {},
   "source": [
    "Necessary imports:"
   ]
  },
  {
   "cell_type": "code",
   "execution_count": 4,
   "metadata": {},
   "outputs": [],
   "source": [
    "import numpy as np\r\n",
    "import matplotlib.pyplot as plt\r\n",
    "import pandas as pd\r\n",
    "from sklearn.preprocessing import MinMaxScaler"
   ]
  },
  {
   "cell_type": "markdown",
   "metadata": {},
   "source": [
    "# Preprocessing\r\n",
    "We start by reading the downloaded time series with Pandas. The data has invalid price values, indicated by \".\", so we have to remove these and impose the prices to be numeric again."
   ]
  },
  {
   "cell_type": "code",
   "execution_count": 5,
   "metadata": {},
   "outputs": [
    {
     "data": {
      "text/html": [
       "<div>\n",
       "<style scoped>\n",
       "    .dataframe tbody tr th:only-of-type {\n",
       "        vertical-align: middle;\n",
       "    }\n",
       "\n",
       "    .dataframe tbody tr th {\n",
       "        vertical-align: top;\n",
       "    }\n",
       "\n",
       "    .dataframe thead th {\n",
       "        text-align: right;\n",
       "    }\n",
       "</style>\n",
       "<table border=\"1\" class=\"dataframe\">\n",
       "  <thead>\n",
       "    <tr style=\"text-align: right;\">\n",
       "      <th></th>\n",
       "      <th>DATE</th>\n",
       "      <th>CBLTCUSD</th>\n",
       "    </tr>\n",
       "  </thead>\n",
       "  <tbody>\n",
       "    <tr>\n",
       "      <th>1822</th>\n",
       "      <td>2021-09-23</td>\n",
       "      <td>164.05</td>\n",
       "    </tr>\n",
       "    <tr>\n",
       "      <th>1823</th>\n",
       "      <td>2021-09-24</td>\n",
       "      <td>152.30</td>\n",
       "    </tr>\n",
       "    <tr>\n",
       "      <th>1824</th>\n",
       "      <td>2021-09-25</td>\n",
       "      <td>151.04</td>\n",
       "    </tr>\n",
       "    <tr>\n",
       "      <th>1825</th>\n",
       "      <td>2021-09-26</td>\n",
       "      <td>150.55</td>\n",
       "    </tr>\n",
       "    <tr>\n",
       "      <th>1826</th>\n",
       "      <td>2021-09-27</td>\n",
       "      <td>145.34</td>\n",
       "    </tr>\n",
       "  </tbody>\n",
       "</table>\n",
       "</div>"
      ],
      "text/plain": [
       "            DATE  CBLTCUSD\n",
       "1822  2021-09-23    164.05\n",
       "1823  2021-09-24    152.30\n",
       "1824  2021-09-25    151.04\n",
       "1825  2021-09-26    150.55\n",
       "1826  2021-09-27    145.34"
      ]
     },
     "execution_count": 5,
     "metadata": {},
     "output_type": "execute_result"
    }
   ],
   "source": [
    "df = pd.read_csv('../Tidsrekker/CBLTCUSD.csv', date_parser = True)\r\n",
    "# Sort out invalid price\r\n",
    "df['CBLTCUSD'] = df['CBLTCUSD'][~(df['CBLTCUSD'] == '.' )]\r\n",
    "df['CBLTCUSD'] = pd.to_numeric(df['CBLTCUSD'])\r\n",
    "\r\n",
    "df.tail()"
   ]
  },
  {
   "cell_type": "markdown",
   "metadata": {},
   "source": [
    "Here, we split the data in a training and testing DataFrame. We also drop the actual dates from the training data."
   ]
  },
  {
   "cell_type": "code",
   "execution_count": 6,
   "metadata": {},
   "outputs": [
    {
     "data": {
      "text/html": [
       "<div>\n",
       "<style scoped>\n",
       "    .dataframe tbody tr th:only-of-type {\n",
       "        vertical-align: middle;\n",
       "    }\n",
       "\n",
       "    .dataframe tbody tr th {\n",
       "        vertical-align: top;\n",
       "    }\n",
       "\n",
       "    .dataframe thead th {\n",
       "        text-align: right;\n",
       "    }\n",
       "</style>\n",
       "<table border=\"1\" class=\"dataframe\">\n",
       "  <thead>\n",
       "    <tr style=\"text-align: right;\">\n",
       "      <th></th>\n",
       "      <th>DATE</th>\n",
       "      <th>CBLTCUSD</th>\n",
       "    </tr>\n",
       "  </thead>\n",
       "  <tbody>\n",
       "    <tr>\n",
       "      <th>1644</th>\n",
       "      <td>2021-03-29</td>\n",
       "      <td>194.12</td>\n",
       "    </tr>\n",
       "    <tr>\n",
       "      <th>1645</th>\n",
       "      <td>2021-03-30</td>\n",
       "      <td>195.58</td>\n",
       "    </tr>\n",
       "    <tr>\n",
       "      <th>1646</th>\n",
       "      <td>2021-03-31</td>\n",
       "      <td>197.58</td>\n",
       "    </tr>\n",
       "    <tr>\n",
       "      <th>1647</th>\n",
       "      <td>2021-04-01</td>\n",
       "      <td>202.91</td>\n",
       "    </tr>\n",
       "    <tr>\n",
       "      <th>1648</th>\n",
       "      <td>2021-04-02</td>\n",
       "      <td>212.00</td>\n",
       "    </tr>\n",
       "  </tbody>\n",
       "</table>\n",
       "</div>"
      ],
      "text/plain": [
       "            DATE  CBLTCUSD\n",
       "1644  2021-03-29    194.12\n",
       "1645  2021-03-30    195.58\n",
       "1646  2021-03-31    197.58\n",
       "1647  2021-04-01    202.91\n",
       "1648  2021-04-02    212.00"
      ]
     },
     "execution_count": 6,
     "metadata": {},
     "output_type": "execute_result"
    }
   ],
   "source": [
    "n = len(df)\r\n",
    "train_df = df[0:int(n*0.9)] # df[0:int(n*0.7)]\r\n",
    "test_df = df[int(n*0.9):] # df[int(n*0.9):]\r\n",
    "\r\n",
    "df_train = train_df.drop('DATE', axis=1)\r\n",
    "test_df.head()"
   ]
  },
  {
   "cell_type": "code",
   "execution_count": 23,
   "metadata": {},
   "outputs": [
    {
     "data": {
      "text/html": [
       "<div>\n",
       "<style scoped>\n",
       "    .dataframe tbody tr th:only-of-type {\n",
       "        vertical-align: middle;\n",
       "    }\n",
       "\n",
       "    .dataframe tbody tr th {\n",
       "        vertical-align: top;\n",
       "    }\n",
       "\n",
       "    .dataframe thead th {\n",
       "        text-align: right;\n",
       "    }\n",
       "</style>\n",
       "<table border=\"1\" class=\"dataframe\">\n",
       "  <thead>\n",
       "    <tr style=\"text-align: right;\">\n",
       "      <th></th>\n",
       "      <th>CBLTCUSD</th>\n",
       "    </tr>\n",
       "  </thead>\n",
       "  <tbody>\n",
       "    <tr>\n",
       "      <th>count</th>\n",
       "      <td>183.000000</td>\n",
       "    </tr>\n",
       "    <tr>\n",
       "      <th>mean</th>\n",
       "      <td>191.217869</td>\n",
       "    </tr>\n",
       "    <tr>\n",
       "      <th>std</th>\n",
       "      <td>60.375852</td>\n",
       "    </tr>\n",
       "    <tr>\n",
       "      <th>min</th>\n",
       "      <td>107.350000</td>\n",
       "    </tr>\n",
       "    <tr>\n",
       "      <th>25%</th>\n",
       "      <td>144.990000</td>\n",
       "    </tr>\n",
       "    <tr>\n",
       "      <th>50%</th>\n",
       "      <td>176.900000</td>\n",
       "    </tr>\n",
       "    <tr>\n",
       "      <th>75%</th>\n",
       "      <td>216.205000</td>\n",
       "    </tr>\n",
       "    <tr>\n",
       "      <th>max</th>\n",
       "      <td>389.970000</td>\n",
       "    </tr>\n",
       "  </tbody>\n",
       "</table>\n",
       "</div>"
      ],
      "text/plain": [
       "         CBLTCUSD\n",
       "count  183.000000\n",
       "mean   191.217869\n",
       "std     60.375852\n",
       "min    107.350000\n",
       "25%    144.990000\n",
       "50%    176.900000\n",
       "75%    216.205000\n",
       "max    389.970000"
      ]
     },
     "execution_count": 23,
     "metadata": {},
     "output_type": "execute_result"
    }
   ],
   "source": [
    "test_df.describe()"
   ]
  },
  {
   "cell_type": "code",
   "execution_count": 22,
   "metadata": {},
   "outputs": [
    {
     "data": {
      "text/html": [
       "<div>\n",
       "<style scoped>\n",
       "    .dataframe tbody tr th:only-of-type {\n",
       "        vertical-align: middle;\n",
       "    }\n",
       "\n",
       "    .dataframe tbody tr th {\n",
       "        vertical-align: top;\n",
       "    }\n",
       "\n",
       "    .dataframe thead th {\n",
       "        text-align: right;\n",
       "    }\n",
       "</style>\n",
       "<table border=\"1\" class=\"dataframe\">\n",
       "  <thead>\n",
       "    <tr style=\"text-align: right;\">\n",
       "      <th></th>\n",
       "      <th>DATE</th>\n",
       "      <th>CBLTCUSD</th>\n",
       "    </tr>\n",
       "  </thead>\n",
       "  <tbody>\n",
       "    <tr>\n",
       "      <th>200</th>\n",
       "      <td>2021-10-15</td>\n",
       "      <td>189.50</td>\n",
       "    </tr>\n",
       "    <tr>\n",
       "      <th>201</th>\n",
       "      <td>2021-10-16</td>\n",
       "      <td>186.08</td>\n",
       "    </tr>\n",
       "    <tr>\n",
       "      <th>202</th>\n",
       "      <td>2021-10-17</td>\n",
       "      <td>183.80</td>\n",
       "    </tr>\n",
       "    <tr>\n",
       "      <th>203</th>\n",
       "      <td>2021-10-18</td>\n",
       "      <td>185.68</td>\n",
       "    </tr>\n",
       "    <tr>\n",
       "      <th>204</th>\n",
       "      <td>2021-10-19</td>\n",
       "      <td>188.61</td>\n",
       "    </tr>\n",
       "  </tbody>\n",
       "</table>\n",
       "</div>"
      ],
      "text/plain": [
       "           DATE  CBLTCUSD\n",
       "200  2021-10-15    189.50\n",
       "201  2021-10-16    186.08\n",
       "202  2021-10-17    183.80\n",
       "203  2021-10-18    185.68\n",
       "204  2021-10-19    188.61"
      ]
     },
     "execution_count": 22,
     "metadata": {},
     "output_type": "execute_result"
    }
   ],
   "source": [
    "df_test_new.tail()"
   ]
  },
  {
   "cell_type": "markdown",
   "metadata": {},
   "source": [
    "The data is normalized with Keras' MinMaxScaler so it's ready to be passed into the network."
   ]
  },
  {
   "cell_type": "code",
   "execution_count": 7,
   "metadata": {},
   "outputs": [
    {
     "data": {
      "text/plain": [
       "array([[0.00098342],\n",
       "       [0.00092723],\n",
       "       [0.00101152],\n",
       "       ...,\n",
       "       [0.50778309],\n",
       "       [0.50823265],\n",
       "       [0.50834504]])"
      ]
     },
     "execution_count": 7,
     "metadata": {},
     "output_type": "execute_result"
    }
   ],
   "source": [
    "scaler = MinMaxScaler()\r\n",
    "df_train = scaler.fit_transform(df_train)\r\n",
    "df_train"
   ]
  },
  {
   "cell_type": "markdown",
   "metadata": {},
   "source": [
    "Pass inputs parameters properly to be inserted to model"
   ]
  },
  {
   "cell_type": "code",
   "execution_count": 8,
   "metadata": {},
   "outputs": [
    {
     "data": {
      "text/plain": [
       "(1584, 60, 1)"
      ]
     },
     "execution_count": 8,
     "metadata": {},
     "output_type": "execute_result"
    }
   ],
   "source": [
    "X_train = [] \r\n",
    "Y_train = []\r\n",
    "for i in range(60, df_train.shape[0]):\r\n",
    "     X_train.append(df_train[i-60:i])\r\n",
    "     Y_train.append(df_train[i,0])\r\n",
    "X_train, Y_train = np.array(X_train), np.array(Y_train)\r\n",
    "\r\n",
    "X_train.shape"
   ]
  },
  {
   "cell_type": "markdown",
   "metadata": {},
   "source": [
    "# Building the model\r\n",
    "Here we state the LSTM model. It has 4 layers with one droput and one Dense layer"
   ]
  },
  {
   "cell_type": "code",
   "execution_count": 9,
   "metadata": {},
   "outputs": [
    {
     "name": "stdout",
     "output_type": "stream",
     "text": [
      "Model: \"sequential\"\n",
      "_________________________________________________________________\n",
      "Layer (type)                 Output Shape              Param #   \n",
      "=================================================================\n",
      "lstm (LSTM)                  (None, 60, 50)            10400     \n",
      "_________________________________________________________________\n",
      "dropout (Dropout)            (None, 60, 50)            0         \n",
      "_________________________________________________________________\n",
      "lstm_1 (LSTM)                (None, 60, 60)            26640     \n",
      "_________________________________________________________________\n",
      "lstm_2 (LSTM)                (None, 60, 80)            45120     \n",
      "_________________________________________________________________\n",
      "lstm_3 (LSTM)                (None, 120)               96480     \n",
      "_________________________________________________________________\n",
      "dense (Dense)                (None, 1)                 121       \n",
      "=================================================================\n",
      "Total params: 178,761\n",
      "Trainable params: 178,761\n",
      "Non-trainable params: 0\n",
      "_________________________________________________________________\n"
     ]
    }
   ],
   "source": [
    "from tensorflow.keras import Sequential\r\n",
    "from tensorflow.keras.layers import Dense, LSTM, Dropout\r\n",
    "# Initialize RNN\r\n",
    "model = Sequential() \r\n",
    "model.add(LSTM(units = 50, activation = 'relu', return_sequences = True, input_shape = (X_train.shape[1], 1)))\r\n",
    "model.add(Dropout(0.2))\r\n",
    "model.add(LSTM(units = 60, activation = 'relu', return_sequences = True))\r\n",
    "# model.add(Dropout(0.3))\r\n",
    "model.add(LSTM(units = 80, activation = 'relu', return_sequences = True))\r\n",
    "# model.add(Dropout(0.4))\r\n",
    "model.add(LSTM(units = 120, activation = 'relu'))\r\n",
    "# model.add(Dropout(0.5))\r\n",
    "model.add(Dense(units =1))\r\n",
    "model.summary()\r\n"
   ]
  },
  {
   "cell_type": "markdown",
   "metadata": {},
   "source": [
    "# Fitting the model"
   ]
  },
  {
   "cell_type": "code",
   "execution_count": 10,
   "metadata": {},
   "outputs": [
    {
     "name": "stdout",
     "output_type": "stream",
     "text": [
      "Epoch 1/20\n",
      "10/10 [==============================] - 8s 371ms/step - loss: 0.0424 - val_loss: nan\n",
      "Epoch 2/20\n",
      "10/10 [==============================] - 3s 262ms/step - loss: 0.0158 - val_loss: nan\n",
      "Epoch 3/20\n",
      "10/10 [==============================] - 2s 235ms/step - loss: 0.0090 - val_loss: nan\n",
      "Epoch 4/20\n",
      "10/10 [==============================] - 2s 249ms/step - loss: 0.0073 - val_loss: nan\n",
      "Epoch 5/20\n",
      "10/10 [==============================] - 2s 234ms/step - loss: 0.0062 - val_loss: nan\n",
      "Epoch 6/20\n",
      "10/10 [==============================] - 2s 244ms/step - loss: 0.0051 - val_loss: nan\n",
      "Epoch 7/20\n",
      "10/10 [==============================] - 2s 247ms/step - loss: 0.0045 - val_loss: nan\n",
      "Epoch 8/20\n",
      "10/10 [==============================] - 3s 292ms/step - loss: 0.0039 - val_loss: nan\n",
      "Epoch 9/20\n",
      "10/10 [==============================] - 3s 284ms/step - loss: 0.0038 - val_loss: nan\n",
      "Epoch 10/20\n",
      "10/10 [==============================] - 3s 262ms/step - loss: 0.0038 - val_loss: nan\n",
      "Epoch 11/20\n",
      "10/10 [==============================] - 2s 253ms/step - loss: 0.0034 - val_loss: nan\n",
      "Epoch 12/20\n",
      "10/10 [==============================] - 2s 244ms/step - loss: 0.0031 - val_loss: nan\n",
      "Epoch 13/20\n",
      "10/10 [==============================] - 3s 281ms/step - loss: 0.0030 - val_loss: nan\n",
      "Epoch 14/20\n",
      "10/10 [==============================] - 3s 297ms/step - loss: 0.0029 - val_loss: nan\n",
      "Epoch 15/20\n",
      "10/10 [==============================] - 3s 274ms/step - loss: 0.0027 - val_loss: nan\n",
      "Epoch 16/20\n",
      "10/10 [==============================] - 3s 253ms/step - loss: 0.0025 - val_loss: nan\n",
      "Epoch 17/20\n",
      "10/10 [==============================] - 2s 250ms/step - loss: 0.0025 - val_loss: nan\n",
      "Epoch 18/20\n",
      "10/10 [==============================] - 3s 263ms/step - loss: 0.0024 - val_loss: nan\n",
      "Epoch 19/20\n",
      "10/10 [==============================] - 3s 265ms/step - loss: 0.0023 - val_loss: nan\n",
      "Epoch 20/20\n",
      "10/10 [==============================] - 3s 266ms/step - loss: 0.0021 - val_loss: nan\n"
     ]
    }
   ],
   "source": [
    "model.compile(optimizer = 'adam', loss = 'mean_squared_error')\r\n",
    "NUM_EPOCH = 20\r\n",
    "history= model.fit(X_train, Y_train, epochs = NUM_EPOCH, batch_size = 128, validation_split=0.20)"
   ]
  },
  {
   "cell_type": "markdown",
   "metadata": {},
   "source": [
    "We find the loss for each epoch:"
   ]
  },
  {
   "cell_type": "code",
   "execution_count": 11,
   "metadata": {},
   "outputs": [
    {
     "data": {
      "image/png": "[encoded data removed]",
      "text/plain": [
       "<Figure size 432x288 with 1 Axes>"
      ]
     },
     "metadata": {
      "needs_background": "light"
     },
     "output_type": "display_data"
    }
   ],
   "source": [
    "loss = history.history['loss']\r\n",
    "epochs = range(len(loss))\r\n",
    "plt.figure()\r\n",
    "plt.plot(epochs, loss, 'b', label='Training loss')\r\n",
    "# plt.plot(epochs, val_loss, 'r', label='Validation loss')\r\n",
    "plt.title(\"Training loss, \" + str(NUM_EPOCH)+ \" epcohs\")\r\n",
    "plt.legend()\r\n",
    "plt.savefig(\"Train_loss_\" + str(NUM_EPOCH) + \"_epochs.pdf\")\r\n",
    "plt.show()"
   ]
  },
  {
   "cell_type": "markdown",
   "metadata": {},
   "source": [
    "# Testing the fit of the model"
   ]
  },
  {
   "cell_type": "code",
   "execution_count": 13,
   "metadata": {},
   "outputs": [
    {
     "data": {
      "text/html": [
       "<div>\n",
       "<style scoped>\n",
       "    .dataframe tbody tr th:only-of-type {\n",
       "        vertical-align: middle;\n",
       "    }\n",
       "\n",
       "    .dataframe tbody tr th {\n",
       "        vertical-align: top;\n",
       "    }\n",
       "\n",
       "    .dataframe thead th {\n",
       "        text-align: right;\n",
       "    }\n",
       "</style>\n",
       "<table border=\"1\" class=\"dataframe\">\n",
       "  <thead>\n",
       "    <tr style=\"text-align: right;\">\n",
       "      <th></th>\n",
       "      <th>CBLTCUSD</th>\n",
       "    </tr>\n",
       "  </thead>\n",
       "  <tbody>\n",
       "    <tr>\n",
       "      <th>0</th>\n",
       "      <td>133.74</td>\n",
       "    </tr>\n",
       "    <tr>\n",
       "      <th>1</th>\n",
       "      <td>135.28</td>\n",
       "    </tr>\n",
       "    <tr>\n",
       "      <th>2</th>\n",
       "      <td>133.18</td>\n",
       "    </tr>\n",
       "    <tr>\n",
       "      <th>3</th>\n",
       "      <td>129.39</td>\n",
       "    </tr>\n",
       "    <tr>\n",
       "      <th>4</th>\n",
       "      <td>132.05</td>\n",
       "    </tr>\n",
       "  </tbody>\n",
       "</table>\n",
       "</div>"
      ],
      "text/plain": [
       "   CBLTCUSD\n",
       "0    133.74\n",
       "1    135.28\n",
       "2    133.18\n",
       "3    129.39\n",
       "4    132.05"
      ]
     },
     "execution_count": 13,
     "metadata": {},
     "output_type": "execute_result"
    }
   ],
   "source": [
    "part_60_days = train_df.tail(60)\r\n",
    "# df2= part_60_days.append(test_df, ignore_index = True) # This one to exclude the newest values\r\n",
    "\r\n",
    "df_test_new = pd.read_csv(\"../Tidsrekker/CBLTCUSD_testonly.csv\", date_parser = True)\r\n",
    "df_test_new['CBLTCUSD'] = pd.to_numeric(df_test_new['CBLTCUSD'])\r\n",
    "\r\n",
    "df2 = part_60_days.append(df_test_new, ignore_index = True)\r\n",
    "df2 = df2.drop(['DATE'], axis = 1)\r\n",
    "df2.head()"
   ]
  },
  {
   "cell_type": "code",
   "execution_count": 14,
   "metadata": {},
   "outputs": [],
   "source": [
    "inputs = scaler.transform(df2)\r\n",
    "# inputs"
   ]
  },
  {
   "cell_type": "code",
   "execution_count": 15,
   "metadata": {},
   "outputs": [
    {
     "data": {
      "text/plain": [
       "((205, 60, 1), (205,))"
      ]
     },
     "execution_count": 15,
     "metadata": {},
     "output_type": "execute_result"
    }
   ],
   "source": [
    "X_test = []\r\n",
    "Y_test = []\r\n",
    "for i in range (60, inputs.shape[0]):\r\n",
    "    X_test.append(inputs[i-60:i])\r\n",
    "    Y_test.append(inputs[i, 0])\r\n",
    "X_test, Y_test = np.array(X_test), np.array(Y_test)\r\n",
    "X_test.shape, Y_test.shape"
   ]
  },
  {
   "cell_type": "code",
   "execution_count": 16,
   "metadata": {},
   "outputs": [],
   "source": [
    "Y_pred = model.predict(X_test)\r\n",
    "# Y_pred, Y_test"
   ]
  },
  {
   "cell_type": "code",
   "execution_count": 17,
   "metadata": {},
   "outputs": [
    {
     "data": {
      "text/plain": [
       "array([0.00280978])"
      ]
     },
     "execution_count": 17,
     "metadata": {},
     "output_type": "execute_result"
    }
   ],
   "source": [
    "scaler.scale_"
   ]
  },
  {
   "cell_type": "code",
   "execution_count": 18,
   "metadata": {},
   "outputs": [],
   "source": [
    "scale = 1/scaler.scale_\r\n",
    "Y_test = Y_test*scale\r\n",
    "Y_pred = Y_pred*scale"
   ]
  },
  {
   "cell_type": "code",
   "execution_count": 26,
   "metadata": {},
   "outputs": [
    {
     "data": {
      "image/png": "[encoded data removed]",
      "text/plain": [
       "<Figure size 1008x360 with 1 Axes>"
      ]
     },
     "metadata": {
      "needs_background": "light"
     },
     "output_type": "display_data"
    }
   ],
   "source": [
    "# This one is just to see how it looks like with the newest 21 days only\r\n",
    "plt.figure(figsize=(14,5))\r\n",
    "plt.plot(Y_test[-21:], color = 'red', label = 'Real Litecoin Price')\r\n",
    "plt.plot(Y_pred[-21:], color = 'green', label = 'Predicted Litecoin Price')\r\n",
    "plt.title('Price Prediction of newest values (' + str(NUM_EPOCH) + ' epochs)')\r\n",
    "plt.xlabel('Time')\r\n",
    "plt.ylabel('Price')\r\n",
    "plt.legend()\r\n",
    "plt.savefig(\"NEWONLY_LSTM-pred-\" + str(NUM_EPOCH) + \".pdf\")\r\n",
    "plt.show()\r\n"
   ]
  },
  {
   "cell_type": "code",
   "execution_count": 29,
   "metadata": {},
   "outputs": [
    {
     "data": {
      "image/png": "[encoded data removed]",
      "text/plain": [
       "<Figure size 1008x360 with 1 Axes>"
      ]
     },
     "metadata": {
      "needs_background": "light"
     },
     "output_type": "display_data"
    }
   ],
   "source": [
    "# This one is just to see how it looks like with the newest 21 days only\r\n",
    "plt.figure(figsize=(14,5))\r\n",
    "plt.plot(Y_test[-204:], color = 'red', label = 'Real Litecoin Price')\r\n",
    "plt.plot(Y_pred[-204:], color = 'green', label = 'Predicted Litecoin Price')\r\n",
    "plt.title('Price Prediction of test values only (' + str(NUM_EPOCH) + ' epochs)')\r\n",
    "plt.xlabel('Time')\r\n",
    "plt.ylabel('Price')\r\n",
    "plt.legend()\r\n",
    "plt.savefig(\"all_test_LSTM-pred-\" + str(NUM_EPOCH) + \".pdf\")\r\n",
    "plt.show()\r\n"
   ]
  },
  {
   "cell_type": "code",
   "execution_count": 32,
   "metadata": {},
   "outputs": [
    {
     "name": "stdout",
     "output_type": "stream",
     "text": [
      "Latest 21 entries: 28.56892904295404\n",
      "All test entries: 56.27694275163748\n"
     ]
    }
   ],
   "source": [
    "latest_21_mean_error = np.mean(np.abs(Y_test[-21:] - Y_pred[-21:]))\r\n",
    "test_mean_error = np.mean(np.abs(Y_test[-204:] - Y_pred[-204:]))\r\n",
    "print(\"Latest 21 entries:\", latest_21_mean_error)\r\n",
    "print(\"All test entries:\", test_mean_error)"
   ]
  },
  {
   "cell_type": "code",
   "execution_count": null,
   "metadata": {},
   "outputs": [],
   "source": []
  },
  {
   "cell_type": "code",
   "execution_count": 19,
   "metadata": {},
   "outputs": [
    {
     "data": {
      "image/png": "[encoded data removed]",
      "text/plain": [
       "<Figure size 1008x360 with 1 Axes>"
      ]
     },
     "metadata": {
      "needs_background": "light"
     },
     "output_type": "display_data"
    }
   ],
   "source": [
    "plt.figure(figsize=(14,5))\r\n",
    "plt.plot(Y_test, color = 'red', label = 'Real Litecoin Price')\r\n",
    "plt.plot(Y_pred, color = 'green', label = 'Predicted Litecoin Price')\r\n",
    "plt.title('Litecoin Price Prediction using RNN-LSTM with ' + str(NUM_EPOCH) + ' epochs')\r\n",
    "plt.xlabel('Time')\r\n",
    "plt.ylabel('Price')\r\n",
    "plt.legend()\r\n",
    "plt.savefig(\"LSTM-pred-\" + str(NUM_EPOCH) + \"-epochs.pdf\")\r\n",
    "plt.show()"
   ]
  }
 ],
 "metadata": {
  "interpreter": {
   "hash": "2c07d2775274eeb3eb6664d523402beedd34f533689ca26ad52becf64c9fcb25"
  },
  "kernelspec": {
   "display_name": "Python 3.9.1 64-bit ('TimeSeries': venv)",
   "name": "python3"
  },
  "language_info": {
   "codemirror_mode": {
    "name": "ipython",
    "version": 3
   },
   "file_extension": ".py",
   "mimetype": "text/x-python",
   "name": "python",
   "nbconvert_exporter": "python",
   "pygments_lexer": "ipython3",
   "version": "3.9.1"
  },
  "orig_nbformat": 4
 },
 "nbformat": 4,
 "nbformat_minor": 2
}