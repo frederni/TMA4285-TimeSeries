{
 "cells": [
  {
   "cell_type": "code",
   "execution_count": 1,
   "metadata": {},
   "outputs": [],
   "source": [
    "# Imports\r\n",
    "import os\r\n",
    "import math\r\n",
    "import pandas as pd\r\n",
    "import numpy as np\r\n",
    "import tensorflow as tf # This code has been tested with TensorFlow 1.6\r\n",
    "from sklearn.preprocessing import MinMaxScaler\r\n",
    "import matplotlib.pyplot as plt\r\n",
    "import seaborn as sns\r\n",
    "\r\n",
    "import IPython\r\n",
    "import IPython.display\r\n"
   ]
  },
  {
   "cell_type": "markdown",
   "metadata": {},
   "source": [
    "# Data import and preprocessing"
   ]
  },
  {
   "cell_type": "code",
   "execution_count": 2,
   "metadata": {},
   "outputs": [
    {
     "name": "stdout",
     "output_type": "stream",
     "text": [
      "Reading data ...\n",
      "Number of rows and columns after removing missing values: (1827, 2)\n",
      "The time series starts from:  2016-09-27 00:00:00\n",
      "The time series ends on:  2021-09-27 00:00:00\n"
     ]
    }
   ],
   "source": [
    "# Read data\r\n",
    "print(\"Reading data ...\")\r\n",
    "df = pd.read_csv('../Tidsrekker/CBLTCUSD.csv',\r\n",
    "                delimiter=',',\r\n",
    "                usecols=['DATE','CBLTCUSD'],\r\n",
    "                parse_dates=[0]\r\n",
    "                )\r\n",
    "# Sort out invalid price\r\n",
    "df['CBLTCUSD'] = df['CBLTCUSD'][~(df['CBLTCUSD'] == '.' )]\r\n",
    "df['CBLTCUSD'] = pd.to_numeric(df['CBLTCUSD'])\r\n",
    "\r\n",
    "\r\n",
    "df = df.loc[:, ['DATE', 'CBLTCUSD']]\r\n",
    "df.sort_values('DATE', inplace=True, ascending=True)\r\n",
    "df = df.reset_index(drop=True)\r\n",
    "\r\n",
    "print('Number of rows and columns after removing missing values:', df.shape)\r\n",
    "print('The time series starts from: ', df['DATE'].min())\r\n",
    "print('The time series ends on: ', df['DATE'].max())"
   ]
  },
  {
   "cell_type": "markdown",
   "metadata": {},
   "source": [
    "We let 70% of data be training data, 20% validation and 10% for testing."
   ]
  },
  {
   "cell_type": "code",
   "execution_count": 3,
   "metadata": {},
   "outputs": [
    {
     "name": "stdout",
     "output_type": "stream",
     "text": [
      "Splitting data ...\n"
     ]
    }
   ],
   "source": [
    "print(\"Splitting data ...\")\r\n",
    "n = len(df)\r\n",
    "train_df = df[0:int(n*0.7)]\r\n",
    "val_df = df[int(n*0.7):int(n*0.9)]\r\n",
    "test_df = df[int(n*0.9):]\r\n",
    "num_features = df.shape[1]"
   ]
  },
  {
   "cell_type": "code",
   "execution_count": null,
   "metadata": {},
   "outputs": [],
   "source": [
    "# Goal of the model:\r\n",
    "#  Predict CBLSDSDUSD at a specified time in the future.\r\n",
    "#   Eg. We want to predict how much Global_active_power will be ten minutes from now.\r\n",
    "#       We can use all the values from t-1, t-2, t-3, .... t-history_length to predict t+10\r\n",
    "\r\n",
    "def create_ts_files(dataset, \r\n",
    "                    start_index, \r\n",
    "                    end_index, \r\n",
    "                    history_length, \r\n",
    "                    step_size, \r\n",
    "                    target_step, \r\n",
    "                    num_rows_per_file, \r\n",
    "                    data_folder):\r\n",
    "    \"\"\"Creates TS files.\r\n",
    "    From https://towardsdatascience.com/3-steps-to-forecast-time-series-lstm-with-tensorflow-keras-ba88c6f05237\r\n",
    "    \"\"\"\r\n",
    "    assert step_size > 0\r\n",
    "    assert start_index >= 0\r\n",
    "    \r\n",
    "    if not os.path.exists(data_folder):\r\n",
    "        os.makedirs(data_folder)\r\n",
    "    \r\n",
    "    time_lags = sorted(range(target_step+1, target_step+history_length+1, step_size), reverse=True)\r\n",
    "    col_names = [f'x_lag{i}' for i in time_lags] + ['y']\r\n",
    "    start_index = start_index + history_length\r\n",
    "    if end_index is None:\r\n",
    "        end_index = len(dataset) - target_step\r\n",
    "    \r\n",
    "    rng = range(start_index, end_index)\r\n",
    "    num_rows = len(rng)\r\n",
    "    num_files = math.ceil(num_rows/num_rows_per_file)\r\n",
    "    \r\n",
    "    # for each file.\r\n",
    "    print(f'Creating {num_files} files.')\r\n",
    "    for i in range(num_files):\r\n",
    "        filename = f'{data_folder}/ts_file{i}.pkl'\r\n",
    "        \r\n",
    "        if i % 10 == 0:\r\n",
    "            print(f'{filename}')\r\n",
    "            \r\n",
    "        # get the start and end indices.\r\n",
    "        ind0 = i*num_rows_per_file\r\n",
    "        ind1 = min(ind0 + num_rows_per_file, end_index)\r\n",
    "        data_list = []\r\n",
    "        \r\n",
    "        # j in the current timestep. Will need j-n to j-1 for the history. And j + target_step for the target.\r\n",
    "        for j in range(ind0, ind1):\r\n",
    "            indices = range(j-1, j-history_length-1, -step_size)\r\n",
    "            data = dataset[sorted(indices) + [j+target_step]]\r\n",
    "            \r\n",
    "            # append data to the list.\r\n",
    "            data_list.append(data)\r\n",
    "\r\n",
    "        df_ts = pd.DataFrame(data=data_list, columns=col_names)\r\n",
    "        df_ts.to_pickle(filename)\r\n",
    "            \r\n",
    "    return len(col_names)-1\r\n"
   ]
  },
  {
   "cell_type": "code",
   "execution_count": null,
   "metadata": {},
   "outputs": [],
   "source": [
    "%%time\r\n",
    "\r\n",
    "global_active_power = train_df['CBLTCUSD'].values\r\n",
    "\r\n",
    "# Scaled to work with Neural networks.\r\n",
    "scaler = MinMaxScaler(feature_range=(0, 1))\r\n",
    "global_active_power_scaled = scaler.fit_transform(global_active_power.reshape(-1, 1)).reshape(-1, )\r\n",
    "\r\n",
    "history_length = 7*24*60  # The history length in minutes.\r\n",
    "step_size = 10  # The sampling rate of the history. Eg. If step_size = 1, then values from every minute will be in the history.\r\n",
    "                #                                       If step size = 10 then values every 10 minutes will be in the history.\r\n",
    "target_step = 10  # The time step in the future to predict. Eg. If target_step = 0, then predict the next timestep after the end of the history period.\r\n",
    "                  #                                             If target_step = 10 then predict 10 timesteps the next timestep (11 minutes after the end of history).\r\n",
    "\r\n",
    "# The csv creation returns the number of rows and number of features. We need these values below.\r\n",
    "num_timesteps = create_ts_files(global_active_power_scaled,\r\n",
    "                                start_index=0,\r\n",
    "                                end_index=None,\r\n",
    "                                history_length=history_length,\r\n",
    "                                step_size=step_size,\r\n",
    "                                target_step=target_step,\r\n",
    "                                num_rows_per_file=128*100,\r\n",
    "                                data_folder='ts_data')\r\n",
    "\r\n",
    "# I found that the easiest way to do time series with tensorflow is by creating pandas files with the lagged time steps (eg. x{t-1}, x{t-2}...) and \r\n",
    "# the value to predict y = x{t+n}. We tried doing it using TFRecords, but that API is not very intuitive and lacks working examples for time series.\r\n",
    "# The resulting file using these parameters is over 17GB. If history_length is increased, or  step_size is decreased, it could get much bigger.\r\n",
    "# Hard to fit into laptop memory, so need to use other means to load the data from the hard drive."
   ]
  },
  {
   "cell_type": "code",
   "execution_count": null,
   "metadata": {},
   "outputs": [],
   "source": [
    "#\r\n",
    "# So we can handle loading the data in chunks from the hard drive instead of having to load everything into memory.\r\n",
    "# \r\n",
    "# The reason we want to do this is so we can do custom processing on the data that we are feeding into the LSTM.\r\n",
    "# LSTM requires a certain shape and it is tricky to get it right.\r\n",
    "#\r\n",
    "class TimeSeriesLoader:\r\n",
    "    def __init__(self, ts_folder, filename_format):\r\n",
    "        self.ts_folder = ts_folder\r\n",
    "        \r\n",
    "        # find the number of files.\r\n",
    "        i = 0\r\n",
    "        file_found = True\r\n",
    "        while file_found:\r\n",
    "            filename = self.ts_folder + '/' + filename_format.format(i)\r\n",
    "            file_found = os.path.exists(filename)\r\n",
    "            if file_found:\r\n",
    "                i += 1\r\n",
    "                \r\n",
    "        self.num_files = i\r\n",
    "        self.files_indices = np.arange(self.num_files)\r\n",
    "        self.shuffle_chunks()\r\n",
    "        \r\n",
    "    def num_chunks(self):\r\n",
    "        return self.num_files\r\n",
    "    \r\n",
    "    def get_chunk(self, idx):\r\n",
    "        assert (idx >= 0) and (idx < self.num_files)\r\n",
    "        \r\n",
    "        ind = self.files_indices[idx]\r\n",
    "        filename = self.ts_folder + '/' + filename_format.format(ind)\r\n",
    "        df_ts = pd.read_pickle(filename)\r\n",
    "        num_records = len(df_ts.index)\r\n",
    "        \r\n",
    "        features = df_ts.drop('y', axis=1).values\r\n",
    "        target = df_ts['y'].values\r\n",
    "        \r\n",
    "        # reshape for input into LSTM. Batch major format.\r\n",
    "        features_batchmajor = np.array(features).reshape(num_records, -1, 1)\r\n",
    "        return features_batchmajor, target\r\n",
    "    \r\n",
    "    # this shuffles the order the chunks will be outputted from get_chunk.\r\n",
    "    def shuffle_chunks(self):\r\n",
    "        np.random.shuffle(self.files_indices)"
   ]
  },
  {
   "cell_type": "code",
   "execution_count": null,
   "metadata": {},
   "outputs": [],
   "source": [
    "ts_folder = 'ts_data'\r\n",
    "filename_format = 'ts_file{}.pkl'\r\n",
    "tss = TimeSeriesLoader(ts_folder, filename_format)"
   ]
  },
  {
   "cell_type": "markdown",
   "metadata": {},
   "source": [
    "# Important decision\r\n",
    "We don't care about the time really, so let's just cut out all of that.."
   ]
  },
  {
   "cell_type": "code",
   "execution_count": 4,
   "metadata": {},
   "outputs": [],
   "source": [
    "# Controversial take: Cut out datetime values\r\n",
    "train_df = train_df.loc[:,'CBLTCUSD']\r\n",
    "val_df = val_df.loc[:,'CBLTCUSD']\r\n",
    "test_df = test_df.loc[:,'CBLTCUSD']\r\n",
    "\r\n",
    "# Need to re-feed these into DataFrame so Tensorflow becomes happy\r\n",
    "train_df = pd.DataFrame(train_df)\r\n",
    "val_df = pd.DataFrame(val_df)\r\n",
    "test_df = pd.DataFrame(test_df)"
   ]
  },
  {
   "cell_type": "code",
   "execution_count": 5,
   "metadata": {},
   "outputs": [
    {
     "name": "stdout",
     "output_type": "stream",
     "text": [
      "Normalizing ...\n"
     ]
    }
   ],
   "source": [
    "print(\"Normalizing ...\")\r\n",
    "keepDateTime = False\r\n",
    "\r\n",
    "if keepDateTime:\r\n",
    "    train_df.loc[:,'CBLTCUSD']=(train_df.loc[:,'CBLTCUSD']-train_df.loc[:,'CBLTCUSD'].mean())/train_df.loc[:,'CBLTCUSD'].std()\r\n",
    "    val_df.loc[:,'CBLTCUSD']=(val_df.loc[:,'CBLTCUSD']-val_df.loc[:,'CBLTCUSD'].mean())/val_df.loc[:,'CBLTCUSD'].std()\r\n",
    "    test_df.loc[:,'CBLTCUSD']=(test_df.loc[:,'CBLTCUSD']-test_df.loc[:,'CBLTCUSD'].mean())/test_df.loc[:,'CBLTCUSD'].std()\r\n",
    "else:\r\n",
    "    train_df = (train_df-train_df.mean()) / train_df.std()\r\n",
    "    val_df = (val_df - val_df.mean()) / val_df.std()\r\n",
    "    test_df = ( test_df - test_df.mean()) / test_df.std()"
   ]
  },
  {
   "cell_type": "code",
   "execution_count": 6,
   "metadata": {},
   "outputs": [],
   "source": [
    "class WindowGenerator():\r\n",
    "    def __init__(self, input_width, label_width, shift,\r\n",
    "                train_df, val_df, test_df,\r\n",
    "                label_columns=None):\r\n",
    "        # Store the raw data.\r\n",
    "        self.train_df = train_df\r\n",
    "        self.val_df = val_df\r\n",
    "        self.test_df = test_df\r\n",
    "\r\n",
    "        # Work out the label column indices.\r\n",
    "        self.label_columns = label_columns\r\n",
    "        if label_columns is not None:\r\n",
    "            self.label_columns_indices = {name: i for i, name in\r\n",
    "                                        enumerate(label_columns)}\r\n",
    "        columns = ['CBLTCUSD'] # Quickfix maybe\r\n",
    "        self.column_indices = {name: i for i, name in enumerate(train_df.columns)}\r\n",
    "        # {name: i for i, name in enumerate(columns)}\r\n",
    "\r\n",
    "        # Work out the window parameters.\r\n",
    "        self.input_width = input_width\r\n",
    "        self.label_width = label_width\r\n",
    "        self.shift = shift\r\n",
    "\r\n",
    "        self.total_window_size = input_width + shift\r\n",
    "\r\n",
    "        self.input_slice = slice(0, input_width)\r\n",
    "        self.input_indices = np.arange(self.total_window_size)[self.input_slice]\r\n",
    "\r\n",
    "        self.label_start = self.total_window_size - self.label_width\r\n",
    "        self.labels_slice = slice(self.label_start, None)\r\n",
    "        self.label_indices = np.arange(self.total_window_size)[self.labels_slice]\r\n",
    "\r\n",
    "    def __repr__(self):\r\n",
    "        return '\\n'.join([\r\n",
    "            f'Total window size: {self.total_window_size}',\r\n",
    "            f'Input indices: {self.input_indices}',\r\n",
    "            f'Label indices: {self.label_indices}',\r\n",
    "            f'Label column name(s): {self.label_columns}'])\r\n",
    "    \r\n",
    "    def split_window(self, features):\r\n",
    "        # print(\"Features\", features, sep='\\n')\r\n",
    "        inputs = features[:, self.input_slice, :]\r\n",
    "        labels = features[:, self.labels_slice, :]\r\n",
    "\r\n",
    "        if self.label_columns is not None:\r\n",
    "            labels = tf.stack(\r\n",
    "                [labels[:, :, self.column_indices[name]] for name in self.label_columns],\r\n",
    "                axis=-1)\r\n",
    "                    \r\n",
    "        # Slicing doesn't preserve static shape information, so set the shapes\r\n",
    "        # manually. This way the `tf.data.Datasets` are easier to inspect.\r\n",
    "        inputs.set_shape([None, self.input_width, None])\r\n",
    "        labels.set_shape([None, self.label_width, None])\r\n",
    "\r\n",
    "        return inputs, labels\r\n"
   ]
  },
  {
   "cell_type": "code",
   "execution_count": 7,
   "metadata": {},
   "outputs": [],
   "source": [
    "## Test new class:\r\n",
    "w1 = WindowGenerator(input_width=24, label_width=1, shift=24, train_df=train_df, val_df=val_df, test_df=test_df, label_columns=['CBLTCUSD'])\r\n",
    "w2 = WindowGenerator(input_width=300, label_width=1, shift=1, train_df=train_df, val_df=val_df, test_df=test_df, label_columns=['CBLTCUSD'])"
   ]
  },
  {
   "cell_type": "markdown",
   "metadata": {},
   "source": [
    "# Let's split!"
   ]
  },
  {
   "cell_type": "code",
   "execution_count": 8,
   "metadata": {},
   "outputs": [
    {
     "data": {
      "text/plain": [
       "0      -1.119737\n",
       "1      -1.120084\n",
       "2      -1.119564\n",
       "3      -1.120431\n",
       "4      -1.119737\n",
       "          ...   \n",
       "1273   -0.504803\n",
       "1274   -0.482606\n",
       "1275   -0.501161\n",
       "1276   -0.482432\n",
       "1277   -0.530989\n",
       "Name: CBLTCUSD, Length: 1278, dtype: float64"
      ]
     },
     "execution_count": 8,
     "metadata": {},
     "output_type": "execute_result"
    }
   ],
   "source": [
    "# Testevindu\r\n",
    "# train_df.head(10)\r\n",
    "train_df_test = pd.DataFrame(train_df)\r\n",
    "train_df_test['CBLTCUSD']"
   ]
  },
  {
   "cell_type": "code",
   "execution_count": 9,
   "metadata": {},
   "outputs": [
    {
     "name": "stdout",
     "output_type": "stream",
     "text": [
      "All shapes are: (batch, time, features)\n",
      "Window shape: (3, 48, 1)\n",
      "Inputs shape: (3, 24, 1)\n",
      "Labels shape: (3, 1, 1)\n"
     ]
    }
   ],
   "source": [
    "# Stack three slices, the length of the total window.\r\n",
    "example_window = tf.stack([np.array(train_df[:w1.total_window_size]),\r\n",
    "                           np.array(train_df[100:100+w1.total_window_size]),\r\n",
    "                           np.array(train_df[200:200+w1.total_window_size])])\r\n",
    "                           \r\n",
    "example_inputs, example_labels = w1.split_window(example_window)\r\n",
    "\r\n",
    "print('All shapes are: (batch, time, features)')\r\n",
    "print(f'Window shape: {example_window.shape}')\r\n",
    "print(f'Inputs shape: {example_inputs.shape}')\r\n",
    "print(f'Labels shape: {example_labels.shape}')\r\n",
    "\r\n",
    "w1.example = example_inputs, example_labels"
   ]
  },
  {
   "cell_type": "code",
   "execution_count": 10,
   "metadata": {},
   "outputs": [],
   "source": [
    "w1.example = example_inputs, example_labels"
   ]
  },
  {
   "cell_type": "code",
   "execution_count": 11,
   "metadata": {},
   "outputs": [],
   "source": [
    "# w1.example = example_inputs, example_labels\r\n",
    "\r\n",
    "def plot(self, model=None, plot_col='CBLTCUSD', max_subplots=3):\r\n",
    "  inputs, labels = self.example\r\n",
    "  plt.figure(figsize=(12, 8))\r\n",
    "  plot_col_index = self.column_indices[plot_col]\r\n",
    "  max_n = min(max_subplots, len(inputs))\r\n",
    "  for n in range(max_n):\r\n",
    "    plt.subplot(max_n, 1, n+1)\r\n",
    "    plt.ylabel(f'{plot_col} [normed]')\r\n",
    "    plt.plot(self.input_indices, inputs[n, :, plot_col_index],\r\n",
    "             label='Inputs', marker='.', zorder=-10)\r\n",
    "\r\n",
    "    if self.label_columns:\r\n",
    "      label_col_index = self.label_columns_indices.get(plot_col, None)\r\n",
    "    else:\r\n",
    "      label_col_index = plot_col_index\r\n",
    "\r\n",
    "    if label_col_index is None:\r\n",
    "      continue\r\n",
    "\r\n",
    "    plt.scatter(self.label_indices, labels[n, :, label_col_index],\r\n",
    "                edgecolors='k', label='Labels', c='#2ca02c', s=64)\r\n",
    "    if model is not None:\r\n",
    "      predictions = model(inputs)\r\n",
    "      plt.scatter(self.label_indices, predictions[n, :, label_col_index],\r\n",
    "                  marker='X', edgecolors='k', label='Predictions',\r\n",
    "                  c='#ff7f0e', s=64)\r\n",
    "\r\n",
    "    if n == 0:\r\n",
    "      plt.legend()\r\n",
    "\r\n",
    "  plt.xlabel('Time [h]')\r\n",
    "\r\n",
    "WindowGenerator.plot = plot"
   ]
  },
  {
   "cell_type": "code",
   "execution_count": 12,
   "metadata": {},
   "outputs": [
    {
     "data": {
      "image/png": "[encoded data removed]",
      "text/plain": [
       "<Figure size 864x576 with 3 Axes>"
      ]
     },
     "metadata": {
      "needs_background": "light"
     },
     "output_type": "display_data"
    }
   ],
   "source": [
    "w1.plot()"
   ]
  },
  {
   "cell_type": "code",
   "execution_count": 13,
   "metadata": {},
   "outputs": [],
   "source": [
    "def make_dataset(self, data):\r\n",
    "  data = np.array(data, dtype=np.float32)\r\n",
    "  ds = tf.keras.preprocessing.timeseries_dataset_from_array(\r\n",
    "      data=data,\r\n",
    "      targets=None,\r\n",
    "      sequence_length=self.total_window_size,\r\n",
    "      sequence_stride=1,\r\n",
    "      shuffle=True,\r\n",
    "      batch_size=32,)\r\n",
    "\r\n",
    "  ds = ds.map(self.split_window)\r\n",
    "\r\n",
    "  return ds\r\n",
    "\r\n",
    "WindowGenerator.make_dataset = make_dataset"
   ]
  },
  {
   "cell_type": "code",
   "execution_count": 20,
   "metadata": {},
   "outputs": [],
   "source": [
    "@property\r\n",
    "def train(self):\r\n",
    "  return self.make_dataset(self.train_df)\r\n",
    "\r\n",
    "@property\r\n",
    "def val(self):\r\n",
    "  return self.make_dataset(self.val_df)\r\n",
    "\r\n",
    "@property\r\n",
    "def test(self):\r\n",
    "  return self.make_dataset(self.test_df)\r\n",
    "\r\n",
    "@property\r\n",
    "def example(self):\r\n",
    "  \"\"\"Get and cache an example batch of `inputs, labels` for plotting.\"\"\"\r\n",
    "  result = getattr(self, '_example', None)\r\n",
    "  if result is None:\r\n",
    "    # No example batch was found, so get one from the `.train` dataset\r\n",
    "    result = next(iter(self.train))\r\n",
    "    # And cache it for next time\r\n",
    "    self._example = result\r\n",
    "  return result\r\n",
    "\r\n",
    "WindowGenerator.train = train\r\n",
    "WindowGenerator.val = val\r\n",
    "WindowGenerator.test = test\r\n",
    "WindowGenerator.example = example"
   ]
  },
  {
   "cell_type": "markdown",
   "metadata": {},
   "source": [
    "# Establishing baseline RNN"
   ]
  },
  {
   "cell_type": "code",
   "execution_count": 23,
   "metadata": {},
   "outputs": [
    {
     "data": {
      "text/plain": [
       "Total window size: 2\n",
       "Input indices: [0]\n",
       "Label indices: [1]\n",
       "Label column name(s): ['CBLTCUSD']"
      ]
     },
     "execution_count": 23,
     "metadata": {},
     "output_type": "execute_result"
    }
   ],
   "source": [
    "single_step_window = WindowGenerator(\r\n",
    "    input_width=1, label_width=1, shift=1, train_df=train_df, val_df=val_df, test_df = test_df, label_columns=['CBLTCUSD'])\r\n",
    "single_step_window"
   ]
  },
  {
   "cell_type": "code",
   "execution_count": null,
   "metadata": {},
   "outputs": [],
   "source": [
    "# https://www.tensorflow.org/tutorials/structured_data/time_series#baseline"
   ]
  }
 ],
 "metadata": {
  "interpreter": {
   "hash": "2c07d2775274eeb3eb6664d523402beedd34f533689ca26ad52becf64c9fcb25"
  },
  "kernelspec": {
   "display_name": "Python 3.9.1 64-bit ('TimeSeries': venv)",
   "name": "python3"
  },
  "language_info": {
   "codemirror_mode": {
    "name": "ipython",
    "version": 3
   },
   "file_extension": ".py",
   "mimetype": "text/x-python",
   "name": "python",
   "nbconvert_exporter": "python",
   "pygments_lexer": "ipython3",
   "version": "3.9.1"
  },
  "orig_nbformat": 4
 },
 "nbformat": 4,
 "nbformat_minor": 2
}